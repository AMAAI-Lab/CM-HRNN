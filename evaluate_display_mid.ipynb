{
 "cells": [
  {
   "cell_type": "code",
   "execution_count": 1,
   "metadata": {
    "collapsed": true
   },
   "outputs": [],
   "source": [
    "from music21 import midi\n",
    "import numpy as np\n",
    "from pypianoroll import Multitrack, Track\n",
    "from matplotlib import pyplot as plt\n",
    "\n",
    "from visual_midi import Plotter\n",
    "from visual_midi import Preset\n",
    "from pretty_midi import PrettyMIDI\n",
    "\n",
    "import glob\n",
    "import os\n",
    "import subprocess\n",
    "import math\n",
    "from IPython.display import Image, display"
   ]
  },
  {
   "cell_type": "code",
   "execution_count": 55,
   "metadata": {},
   "outputs": [],
   "source": [
    "def parenthetic_contents(string):\n",
    "    \"\"\"Generate parenthesized contents in string as pairs (level, contents).\"\"\"\n",
    "    stack = []\n",
    "    for i, c in enumerate(string):\n",
    "        if c == '(':\n",
    "            stack.append(i)\n",
    "        elif c == ')' and stack:\n",
    "            start = stack.pop()\n",
    "            if len(stack)==1:\n",
    "                yield (len(stack), string[start + 1: i])\n",
    "def get_feature(mid_file, long_short_threshold = 16):\n",
    "\n",
    "    out = subprocess.run([\"java\", \"-jar\",\"omnisia.jar\",\"-i\",mid_file,\"-draw\"],stdout=subprocess.PIPE, stderr=subprocess.PIPE)\n",
    "    txt = out.stdout.decode('utf-8')\n",
    "    log_folder = txt.split(\"\\n\")[5].split(\":\")[-1][1:]\n",
    "    cos_file = glob.glob(log_folder+\"/*.cos\")[0]\n",
    "    png_file = glob.glob(log_folder+\"/*.png\")\n",
    "    print(\"found image\", png_file)\n",
    "    ratio = None\n",
    "    file_lst_with_long_pattern = []\n",
    "    with open(cos_file, \"r\") as f:\n",
    "        lines = f.readlines()\n",
    "        ratio = [float(line.split(\" \")[-1]) for line in lines if line.startswith(\"compressionRatio \")][0]\n",
    "        if math.isnan(ratio):\n",
    "            ratio = 1\n",
    "        pattern_occurence = [(list(parenthetic_contents(line))[0][1], list(parenthetic_contents(line))[1][1].count(\"v\")) for line in lines if line.startswith(\"T\")]\n",
    "        #span: number of 16th notes 220:16th note, 880: 1/4note, 3520: 1note\n",
    "        span_occurence = [(  (float(p_o[0].split(\"p\")[-1].split(\",\")[0][1:])- float(p_o[0].split(\"p\")[1].split(\",\")[0][1:]))/220\n",
    "                              ,p_o[1]\n",
    "                          ) for p_o in pattern_occurence if p_o[1]!=1]\n",
    "        num_long_pattern= sum([x[1] for x in span_occurence if x[0]>=long_short_threshold])\n",
    "        if num_long_pattern>0:\n",
    "            print(\"long pattern exists\",mid_file)\n",
    "            playmid(mid_file)\n",
    "            loadimg(png_file)\n",
    "            current_file_has_long_pattern = True\n",
    "        else:\n",
    "            current_file_has_long_pattern = False\n",
    "            #subprocess.run([\"rm\", \"-rf\",log_folder])\n",
    "        num_short_pattern = sum([x[1] for x in span_occurence if x[0]<long_short_threshold])\n",
    "        \n",
    "\n",
    "    return ratio, num_long_pattern, num_short_pattern, current_file_has_long_pattern\n"
   ]
  },
  {
   "cell_type": "code",
   "execution_count": 56,
   "metadata": {},
   "outputs": [],
   "source": [
    "def playmid(mid_file):\n",
    "    f = midi.MidiFile()\n",
    "    f.open(mid_file)\n",
    "    f.read()\n",
    "    f.close()\n",
    "    s = midi.translate.midiFileToStream(f)\n",
    "    '''preset = Preset(plot_width=850)\n",
    "    plotter = Plotter(preset, plot_max_length_bar=4)\n",
    "    pm = PrettyMIDI(mid_file)\n",
    "    plotter.show_notebook(pm) '''\n",
    "    it_pianoroll = Multitrack(mid_file)\n",
    "    it_pianoroll.parse_pretty_midi(PrettyMIDI(mid_file),algorithm='custom', first_beat_time=0.0)\n",
    "    fig, axs = it_pianoroll.plot()\n",
    "    plt.show()\n",
    "\n",
    "    s.show(\"midi\")\n",
    "def loadimg(path):\n",
    "    \n",
    "    display(Image(filename=path) )\n",
    "    "
   ]
  },
  {
   "cell_type": "code",
   "execution_count": 28,
   "metadata": {
    "collapsed": true
   },
   "outputs": [],
   "source": []
  },
  {
   "cell_type": "code",
   "execution_count": 59,
   "metadata": {},
   "outputs": [
    {
     "name": "stdout",
     "output_type": "stream",
     "text": [
      "queen_dont-stop-me-now_verse_pre-chorus_chorus-chrom.cos\r\n",
      "queen_dont-stop-me-now_verse_pre-chorus_chorus-chrom.log\r\n",
      "queen_dont-stop-me-now_verse_pre-chorus_chorus.log\r\n",
      "queen_dont-stop-me-now_verse_pre-chorus_chorus.pts\r\n",
      "queen_dont-stop-me-now_verse_pre-chorus_chorus.switches\r\n"
     ]
    }
   ],
   "source": [
    "ls xml_test_decoded_omi/Pop/queen_dont-stop-me-now_verse_pre-chorus_chorus-mid-2020-10-30-06-50-33-614"
   ]
  },
  {
   "cell_type": "code",
   "execution_count": 57,
   "metadata": {},
   "outputs": [
    {
     "name": "stdout",
     "output_type": "stream",
     "text": [
      "hey hey \n",
      "Parameter values\n",
      "================\n",
      "Basic algorithm: (-a): COSIATEC\n",
      "Input file (-i): /PROJ/SampleRNN_event/xml_test_decoded_omi/Pop/queen_dont-stop-me-now_verse_pre-chorus_chorus.mid\n",
      "Output directory (-o): /PROJ/SampleRNN_event/xml_test_decoded_omi/Pop/queen_dont-stop-me-now_verse_pre-chorus_chorus-mid-2020-10-30-06-50-33-614\n",
      "Morphetic (diatonic) pitch (-d): false\n",
      "MIREX (-m): false\n",
      "Compactness trawler (-ct): false\n",
      "Minimum compactness of trawled patterns (-cta): 0.67\n",
      "Minimum size of trawled patterns (-ctb): 3\n",
      "For r superdiagonals (-rsd): false\n",
      "r (-r): 1\n",
      "Remove redundant translators (-rrt): false\n",
      "Minimum TEC compactness (-minc): 0.0\n",
      "Minimum pattern size (-min): 0\n",
      "Maximum pattern size (-max): Unlimited\n",
      "Merge TECS (-merge): false\n",
      "Minimum match size if TECs are merged (-minm): 5\n",
      "Number of iterations if TECs are merged (-spins): 10\n",
      "Remove channel 10 (drum channel) in MIDI (-no10): false\n",
      "Help requested (-h): false\n",
      "Draw analysis (-draw): true\n",
      "Minimum compression ratio in Forth's algorithm (-crlow): 0.2\n",
      "Maximum compression ratio in Forth's algorithm (-crhi): 1.0\n",
      "Minimum compactness threshold in Forth's algorithm (-comlow): 0.2\n",
      "Maximum compactness threshold in Forth's algorithm (-comhi): 1.0\n",
      "c_min threshold in Forth's algorithm (-cmin): 15\n",
      "sigma_min threshold in Forth's algorithm (-sigmin): 0.5\n",
      "Using bounding-box compactness in Forth's algorithm (-bbcomp): false\n",
      "Appending date to output directories (-nodate) (N.B.: if true, then NO DATE APPENDED): false\n",
      "Using BB mode in MIREX output (-bbmode): false\n",
      "Using Segment mode in MIREX output (-segmode): false\n",
      "Output file (-out): null\n",
      "Top N Patterns (-top): 0\n",
      "Basic algorithm used by RecurSIA (-recalg): COSIATEC\n",
      "Sort TECs by decreasing pattern size (-sortpat): false\n",
      "\n",
      "getBestTEC:\n",
      "computeVectorTable...completed\n",
      "computeMtpCisPairs...completed: 4587 MTPs found\n",
      "\n",
      "removeTranslationallyEquivalentMtps\n",
      "\n",
      "Computing vectorized Mtps\n",
      "DONE: 2468 vectorized MTPs created\n",
      "\n",
      "Now computing tran distinct MTPs\n",
      ".......DONE: 1985 translationally distinct MTPs\n",
      "Finding best TEC\n",
      "...\n",
      "Best TEC: (2.50,1.00) T(P(p(11330,64),p(11440,64),p(11550,64),p(11660,65)),V(v(0,0),v(1100,-3),v(2860,-3),v(4840,-4),v(11440,12)))\n",
      "getBestTEC:\n",
      "computeVectorTable...completed\n",
      "computeMtpCisPairs...completed: 3969 MTPs found\n",
      "\n",
      "removeTranslationallyEquivalentMtps\n",
      "\n",
      "Computing vectorized Mtps\n",
      "DONE: 1871 vectorized MTPs created\n",
      "\n",
      "Now computing tran distinct MTPs\n",
      "......DONE: 1471 translationally distinct MTPs\n",
      "Finding best TEC\n",
      "..\n",
      "Best TEC: (2.29,1.00) T(P(p(2200,64),p(2310,62),p(2420,60),p(2530,62)),V(v(0,0),v(4510,0),v(15950,0),v(19470,0)))\n",
      "getBestTEC:\n",
      "computeVectorTable...completed\n",
      "computeMtpCisPairs...completed: 3526 MTPs found\n",
      "\n",
      "removeTranslationallyEquivalentMtps\n",
      "\n",
      "Computing vectorized Mtps\n",
      "DONE: 1426 vectorized MTPs created\n",
      "\n",
      "Now computing tran distinct MTPs\n",
      ".....DONE: 1103 translationally distinct MTPs\n",
      "Finding best TEC\n",
      "..\n",
      "Best TEC: (2.14,1.00) T(P(p(2750,62),p(2970,62),p(3080,64)),V(v(0,0),v(5280,5),v(21890,3),v(23650,3),v(24200,7)))\n",
      "getBestTEC:\n",
      "computeVectorTable...completed\n",
      "computeMtpCisPairs...completed: 3005 MTPs found\n",
      "\n",
      "removeTranslationallyEquivalentMtps\n",
      "\n",
      "Computing vectorized Mtps\n",
      "DONE: 1041 vectorized MTPs created\n",
      "\n",
      "Now computing tran distinct MTPs\n",
      ".....DONE: 811 translationally distinct MTPs\n",
      "Finding best TEC\n",
      ".\n",
      "Best TEC: (2.00,1.00) T(P(p(4180,62),p(4400,62),p(4510,60)),V(v(0,0),v(1540,14),v(8690,2),v(11110,2)))\n",
      "getBestTEC:\n",
      "computeVectorTable...completed\n",
      "computeMtpCisPairs...completed: 2570 MTPs found\n",
      "\n",
      "removeTranslationallyEquivalentMtps\n",
      "\n",
      "Computing vectorized Mtps\n",
      "DONE: 761 vectorized MTPs created\n",
      "\n",
      "Now computing tran distinct MTPs\n",
      "....DONE: 586 translationally distinct MTPs\n",
      "Finding best TEC\n",
      ".\n",
      "Best TEC: (1.80,1.00) T(P(p(110,60),p(220,60),p(440,60)),V(v(0,0),v(15620,0),v(19250,4)))\n",
      "getBestTEC:\n",
      "computeVectorTable...completed\n",
      "computeMtpCisPairs...completed: 2198 MTPs found\n",
      "\n",
      "removeTranslationallyEquivalentMtps\n",
      "\n",
      "Computing vectorized Mtps\n",
      "DONE: 569 vectorized MTPs created\n",
      "\n",
      "Now computing tran distinct MTPs\n",
      "....DONE: 429 translationally distinct MTPs\n",
      "Finding best TEC\n",
      "\n",
      "Best TEC: (1.80,0.75) T(P(p(10010,64),p(10230,62),p(12210,62)),V(v(0,0),v(1760,0),v(15840,12)))\n",
      "getBestTEC:\n",
      "computeVectorTable...completed\n",
      "computeMtpCisPairs...completed: 1872 MTPs found\n",
      "\n",
      "removeTranslationallyEquivalentMtps\n",
      "\n",
      "Computing vectorized Mtps\n",
      "DONE: 393 vectorized MTPs created\n",
      "\n",
      "Now computing tran distinct MTPs\n",
      "...DONE: 286 translationally distinct MTPs\n",
      "Finding best TEC\n",
      "\n",
      "Best TEC: (1.80,0.75) T(P(p(3410,67),p(4620,60),p(9570,60)),V(v(0,0),v(5060,4),v(5280,5)))\n",
      "getBestTEC:\n",
      "computeVectorTable...completed\n",
      "computeMtpCisPairs...completed: 1479 MTPs found\n",
      "\n",
      "removeTranslationallyEquivalentMtps\n",
      "\n",
      "Computing vectorized Mtps\n",
      "DONE: 257 vectorized MTPs created\n",
      "\n",
      "Now computing tran distinct MTPs\n",
      "...DONE: 174 translationally distinct MTPs\n",
      "Finding best TEC\n",
      "\n",
      "Best TEC: (1.78,1.00) T(P(p(1430,67),p(4950,67)),V(v(0,0),v(15290,0),v(15620,2),v(15840,4),v(16060,5),v(16610,-3),v(17270,-3),v(22880,7)))\n",
      "getBestTEC:\n",
      "computeVectorTable...completed\n",
      "computeMtpCisPairs...completed: 875 MTPs found\n",
      "\n",
      "removeTranslationallyEquivalentMtps\n",
      "\n",
      "Computing vectorized Mtps\n",
      "DONE: 97 vectorized MTPs created\n",
      "\n",
      "Now computing tran distinct MTPs\n",
      "...DONE: 48 translationally distinct MTPs\n",
      "Finding best TEC\n",
      "\n",
      "Best TEC: (1.67,1.00) T(P(p(12320,61),p(14080,61)),V(v(0,0),v(11110,8),v(11440,16),v(12210,8),v(12430,4)))\n",
      "getBestTEC:\n",
      "computeVectorTable...completed\n",
      "computeMtpCisPairs...completed: 527 MTPs found\n",
      "\n",
      "removeTranslationallyEquivalentMtps\n",
      "\n",
      "Computing vectorized Mtps\n",
      "DONE: 61 vectorized MTPs created\n",
      "\n",
      "Now computing tran distinct MTPs\n",
      "...DONE: 25 translationally distinct MTPs\n",
      "Finding best TEC\n",
      "\n",
      "Best TEC: (1.50,1.00) T(P(p(0,62),p(660,67),p(2090,60)),V(v(0,0),v(5610,5)))\n",
      "getBestTEC:\n",
      "computeVectorTable...completed\n",
      "computeMtpCisPairs...completed: 363 MTPs found\n",
      "\n",
      "removeTranslationallyEquivalentMtps\n",
      "\n",
      "Computing vectorized Mtps\n",
      "DONE: 40 vectorized MTPs created\n",
      "\n",
      "Now computing tran distinct MTPs\n",
      "...DONE: 13 translationally distinct MTPs\n",
      "Finding best TEC\n",
      "\n",
      "Best TEC: (1.50,0.23) T(P(p(550,64),p(15950,60),p(17930,64)),V(v(0,0),v(5280,12)))\n",
      "getBestTEC:\n",
      "computeVectorTable...completed\n",
      "computeMtpCisPairs...completed: 229 MTPs found\n",
      "\n",
      "removeTranslationallyEquivalentMtps\n",
      "\n",
      "Computing vectorized Mtps\n",
      "DONE: 23 vectorized MTPs created\n",
      "\n",
      "Now computing tran distinct MTPs\n",
      "...DONE: 3 translationally distinct MTPs\n",
      "Finding best TEC\n",
      "\n",
      "Best TEC: (1.33,1.00) T(P(p(770,72),p(880,71)),V(v(0,0),v(4290,0)))\n",
      "getBestTEC:\n",
      "computeVectorTable...completed\n",
      "computeMtpCisPairs...completed: 153 MTPs found\n",
      "\n",
      "removeTranslationallyEquivalentMtps\n",
      "\n",
      "Computing vectorized Mtps\n",
      "DONE: 17 vectorized MTPs created\n",
      "\n",
      "Now computing tran distinct MTPs\n",
      "...DONE: 1 translationally distinct MTPs\n",
      "Finding best TEC\n",
      "\n",
      "Best TEC: (1.00,0.13) T(P(p(1540,64),p(1650,62),p(1870,60),p(3190,65),p(4290,64),p(7370,64),p(10450,60),p(10890,57),p(12100,62),p(15400,65),p(16610,62),p(19250,62),p(19580,67),p(21450,72),p(24090,76),p(27500,71),p(27610,71),p(27720,72)),V(v(0,0)))\n",
      "\n",
      "found image []\n",
      "long pattern exists xml_test_decoded_omi/Pop/queen_dont-stop-me-now_verse_pre-chorus_chorus.mid\n"
     ]
    },
    {
     "data": {
      "image/png": "[encoded data removed]",
      "text/plain": [
       "<Figure size 432x288 with 1 Axes>"
      ]
     },
     "metadata": {
      "image/png": {
       "height": 260,
       "width": 413
      },
      "needs_background": "light"
     },
     "output_type": "display_data"
    },
    {
     "data": {
      "text/html": [
       "\n",
       "                <div id='midiPlayerDiv1125'></div>\n",
       "                <link rel=\"stylesheet\" href=\"//cuthbertLab.github.io/music21j/css/m21.css\"\n",
       "                    type=\"text/css\" />\n",
       "                <script>\n",
       "                require.config({\n",
       "                    paths: {'music21': '//cuthbertLab.github.io/music21j/src/music21'}\n",
       "                });\n",
       "                require(['music21'], function() {\n",
       "                               mp = new music21.miditools.MidiPlayer();\n",
       "                               mp.addPlayer('#midiPlayerDiv1125');\n",
       "                               mp.base64Load('data:audio/midi;base64,TVRoZAAAAAYAAQABBABNVHJrAAAFXQD/AwAA4ABAiACQPmSEAIA+AACQPGSEAIA8AACQPGSIAIA8AACQPGSEAIA8AACQQGSEAIBAAACQQ2SEAIBDAACQSGSEAIBIAACQR2SUAIBHAACQQ2SEAIBDAACQQGSEAIBAAACQPmSIAIA+AACQPGSIAIA8AACQPGSEAIA8AACQQGSEAIBAAACQPmSEAIA+AACQPGSEAIA8AACQPmSIAIA+AACQPmSIAIA+AACQPmSEAIA+AACQQGSEAIBAAACQQWSIAIBBAACQQ2SUAIBDAIgAkD5khACAPgAAkEBkhACAQAAAkD5khACAPgAAkDxkhACAPAAAkDxkiACAPACEAJBDZIQAgEMAAJBIZIQAgEgAAJBHZJAAgEcAAJBDZIQAgEMAAJBMZIQAgEwAAJBMZIQAgEwAAJBMZIQAgEwAAJBKZIgAgEoAAJBIZIgAgEgAiACQQGSEAIBAAACQPmSEAIA+AACQPGSEAIA8AACQPmSMAIA+AACQQGSMAIBAAACQQWSMAIBBAACQQ2SIAIBDAACQQ2SEAIBDAACQRWSEAIBFAACQR2SIAIBHAACQSGSEAIBIAJwAkDxkhACAPAAAkEBkiACAQAAAkEFkhACAQQAAkEBkiACAQAAAkD5kiACAPgAAkDxkkACAPAAAkDlkhACAOQCMAJBAZIQAgEAAAJBAZIQAgEAAAJBAZIQAgEAAAJBBZIQAgEEAAJBAZIgAgEAAAJA+ZIQAgD4AAJA+ZIQAgD4AAJA+ZIQAgD4AAJA9ZIQAgD0AAJA9ZIQAgD0AAJA9ZIQAgD0AAJA9ZIQAgD0AAJA+ZIQAgD4AAJBAZIgAgEAAAJBAZIQAgEAAAJA+ZJAAgD4AjACQPmSEAIA+AACQPWSEAIA9AACQPWSEAIA9AACQPWSEAIA9AACQPWSEAIA9AACQPmSEAIA+AACQQGSIAIBAAACQQWSQAIBBAACQQGSEAIBAAACQQWSEAIBBAACQQGSEAIBAAACQPmSEAIA+AACQPGSEAIA8AACQPGSEAIA8AACQPGSEAIA8AACQPGSEAIA8AACQPGSEAIA8AACQPGSEAIA8AACQPGSEAIA8AACQPWSEAIA9AACQPmSEAIA+AACQQ2SMAIBDAACQRWSIAIBFAACQR2SIAIBHAACQSGSQAIBIAACQQGSEAIBAAACQQGSEAIBAAACQQGSEAIBAAACQPmSEAIA+AACQPGSEAIA8AACQPmSIAIA+AACQQGSIAIBAAIwAkD5khACAPgAAkEBkhACAQAAAkEBkhACAQAAAkENkhACAQwAAkEBkkACAQACEAJBDZIwAgEMAAJBFZIgAgEUAAJBHZIgAgEcAAJBIZIgAgEgAAJBIZIgAgEgAAJBIZIQAgEgAAJBAZIQAgEAAAJBAZIQAgEAAAJA+ZIQAgD4AAJA8ZIQAgDwAAJA+ZIgAgD4AAJBAZIgAgEAAjACQTGSEAIBMAACQTGSEAIBMAACQTGSEAIBMAACQTWSEAIBNAACQTGSIAIBMAACQRWSMAIBFAACQTWSMAIBNAACQTGSIAIBMAACQSmSIAIBKAACQRWSEAIBFAACQQWSEAIBBAACQQWSEAIBBAACQQWSEAIBBAACQQ2SIAIBDAACQRWSMAIBFAACQTWSMAIBNAACQTGSIAIBMAACQSmSIAIBKAACQRWSEAIBFAACQQWSEAIBBAACQQWSEAIBBAACQQWSEAIBBAACQQ2SIAIBDAACQRWSIAIBFAACQRWSEAIBFAACQR2SIAIBHAACQR2SEAIBHAACQR2SEAIBHAACQSGSEAIBIAACQSmSIAIBKAACQSmSEAIBKAIgA/y8A');\n",
       "                        });\n",
       "                </script>"
      ],
      "text/plain": [
       "<IPython.core.display.HTML object>"
      ]
     },
     "metadata": {},
     "output_type": "display_data"
    },
    {
     "ename": "TypeError",
     "evalue": "expected str, bytes or os.PathLike object, not list",
     "output_type": "error",
     "traceback": [
      "\u001b[0;31m---------------------------------------------------------------------------\u001b[0m",
      "\u001b[0;31mTypeError\u001b[0m                                 Traceback (most recent call last)",
      "\u001b[0;32m<ipython-input-57-0dd4c99792df>\u001b[0m in \u001b[0;36m<module>\u001b[0;34m\u001b[0m\n\u001b[1;32m      8\u001b[0m \u001b[0;34m\u001b[0m\u001b[0m\n\u001b[1;32m      9\u001b[0m     \u001b[0;31m#evaluate a folder of files\u001b[0m\u001b[0;34m\u001b[0m\u001b[0;34m\u001b[0m\u001b[0;34m\u001b[0m\u001b[0m\n\u001b[0;32m---> 10\u001b[0;31m     \u001b[0mfeature_4_each_file\u001b[0m \u001b[0;34m=\u001b[0m \u001b[0;34m[\u001b[0m\u001b[0mget_feature\u001b[0m\u001b[0;34m(\u001b[0m\u001b[0mmid_file\u001b[0m\u001b[0;34m,\u001b[0m \u001b[0mlong_short_threshold\u001b[0m\u001b[0;34m=\u001b[0m \u001b[0;36m64\u001b[0m\u001b[0;34m)\u001b[0m \u001b[0;32mfor\u001b[0m \u001b[0mmid_file\u001b[0m \u001b[0;32min\u001b[0m \u001b[0mmid_files_lst2\u001b[0m\u001b[0;34m]\u001b[0m\u001b[0;34m\u001b[0m\u001b[0;34m\u001b[0m\u001b[0m\n\u001b[0m\u001b[1;32m     11\u001b[0m     \u001b[0mratio_4_folder\u001b[0m \u001b[0;34m=\u001b[0m \u001b[0msum\u001b[0m\u001b[0;34m(\u001b[0m\u001b[0;34m[\u001b[0m\u001b[0mx\u001b[0m\u001b[0;34m[\u001b[0m\u001b[0;36m0\u001b[0m\u001b[0;34m]\u001b[0m\u001b[0;32mfor\u001b[0m \u001b[0mx\u001b[0m \u001b[0;32min\u001b[0m \u001b[0mfeature_4_each_file\u001b[0m\u001b[0;34m]\u001b[0m\u001b[0;34m)\u001b[0m\u001b[0;34m/\u001b[0m\u001b[0mlen\u001b[0m\u001b[0;34m(\u001b[0m\u001b[0mmid_files_lst2\u001b[0m\u001b[0;34m)\u001b[0m\u001b[0;34m\u001b[0m\u001b[0;34m\u001b[0m\u001b[0m\n\u001b[1;32m     12\u001b[0m     \u001b[0mlong_patterns_4_folder\u001b[0m \u001b[0;34m=\u001b[0m \u001b[0msum\u001b[0m\u001b[0;34m(\u001b[0m\u001b[0;34m[\u001b[0m\u001b[0mx\u001b[0m\u001b[0;34m[\u001b[0m\u001b[0;36m1\u001b[0m\u001b[0;34m]\u001b[0m\u001b[0;32mfor\u001b[0m \u001b[0mx\u001b[0m \u001b[0;32min\u001b[0m \u001b[0mfeature_4_each_file\u001b[0m\u001b[0;34m]\u001b[0m\u001b[0;34m)\u001b[0m\u001b[0;34m\u001b[0m\u001b[0;34m\u001b[0m\u001b[0m\n",
      "\u001b[0;32m<ipython-input-57-0dd4c99792df>\u001b[0m in \u001b[0;36m<listcomp>\u001b[0;34m(.0)\u001b[0m\n\u001b[1;32m      8\u001b[0m \u001b[0;34m\u001b[0m\u001b[0m\n\u001b[1;32m      9\u001b[0m     \u001b[0;31m#evaluate a folder of files\u001b[0m\u001b[0;34m\u001b[0m\u001b[0;34m\u001b[0m\u001b[0;34m\u001b[0m\u001b[0m\n\u001b[0;32m---> 10\u001b[0;31m     \u001b[0mfeature_4_each_file\u001b[0m \u001b[0;34m=\u001b[0m \u001b[0;34m[\u001b[0m\u001b[0mget_feature\u001b[0m\u001b[0;34m(\u001b[0m\u001b[0mmid_file\u001b[0m\u001b[0;34m,\u001b[0m \u001b[0mlong_short_threshold\u001b[0m\u001b[0;34m=\u001b[0m \u001b[0;36m64\u001b[0m\u001b[0;34m)\u001b[0m \u001b[0;32mfor\u001b[0m \u001b[0mmid_file\u001b[0m \u001b[0;32min\u001b[0m \u001b[0mmid_files_lst2\u001b[0m\u001b[0;34m]\u001b[0m\u001b[0;34m\u001b[0m\u001b[0;34m\u001b[0m\u001b[0m\n\u001b[0m\u001b[1;32m     11\u001b[0m     \u001b[0mratio_4_folder\u001b[0m \u001b[0;34m=\u001b[0m \u001b[0msum\u001b[0m\u001b[0;34m(\u001b[0m\u001b[0;34m[\u001b[0m\u001b[0mx\u001b[0m\u001b[0;34m[\u001b[0m\u001b[0;36m0\u001b[0m\u001b[0;34m]\u001b[0m\u001b[0;32mfor\u001b[0m \u001b[0mx\u001b[0m \u001b[0;32min\u001b[0m \u001b[0mfeature_4_each_file\u001b[0m\u001b[0;34m]\u001b[0m\u001b[0;34m)\u001b[0m\u001b[0;34m/\u001b[0m\u001b[0mlen\u001b[0m\u001b[0;34m(\u001b[0m\u001b[0mmid_files_lst2\u001b[0m\u001b[0;34m)\u001b[0m\u001b[0;34m\u001b[0m\u001b[0;34m\u001b[0m\u001b[0m\n\u001b[1;32m     12\u001b[0m     \u001b[0mlong_patterns_4_folder\u001b[0m \u001b[0;34m=\u001b[0m \u001b[0msum\u001b[0m\u001b[0;34m(\u001b[0m\u001b[0;34m[\u001b[0m\u001b[0mx\u001b[0m\u001b[0;34m[\u001b[0m\u001b[0;36m1\u001b[0m\u001b[0;34m]\u001b[0m\u001b[0;32mfor\u001b[0m \u001b[0mx\u001b[0m \u001b[0;32min\u001b[0m \u001b[0mfeature_4_each_file\u001b[0m\u001b[0;34m]\u001b[0m\u001b[0;34m)\u001b[0m\u001b[0;34m\u001b[0m\u001b[0;34m\u001b[0m\u001b[0m\n",
      "\u001b[0;32m<ipython-input-55-156cb8233105>\u001b[0m in \u001b[0;36mget_feature\u001b[0;34m(mid_file, long_short_threshold)\u001b[0m\n\u001b[1;32m     34\u001b[0m             \u001b[0mprint\u001b[0m\u001b[0;34m(\u001b[0m\u001b[0;34m\"long pattern exists\"\u001b[0m\u001b[0;34m,\u001b[0m\u001b[0mmid_file\u001b[0m\u001b[0;34m)\u001b[0m\u001b[0;34m\u001b[0m\u001b[0;34m\u001b[0m\u001b[0m\n\u001b[1;32m     35\u001b[0m             \u001b[0mplaymid\u001b[0m\u001b[0;34m(\u001b[0m\u001b[0mmid_file\u001b[0m\u001b[0;34m)\u001b[0m\u001b[0;34m\u001b[0m\u001b[0;34m\u001b[0m\u001b[0m\n\u001b[0;32m---> 36\u001b[0;31m             \u001b[0mloadimg\u001b[0m\u001b[0;34m(\u001b[0m\u001b[0mpng_file\u001b[0m\u001b[0;34m)\u001b[0m\u001b[0;34m\u001b[0m\u001b[0;34m\u001b[0m\u001b[0m\n\u001b[0m\u001b[1;32m     37\u001b[0m             \u001b[0mcurrent_file_has_long_pattern\u001b[0m \u001b[0;34m=\u001b[0m \u001b[0;32mTrue\u001b[0m\u001b[0;34m\u001b[0m\u001b[0;34m\u001b[0m\u001b[0m\n\u001b[1;32m     38\u001b[0m         \u001b[0;32melse\u001b[0m\u001b[0;34m:\u001b[0m\u001b[0;34m\u001b[0m\u001b[0;34m\u001b[0m\u001b[0m\n",
      "\u001b[0;32m<ipython-input-56-4447f39f0055>\u001b[0m in \u001b[0;36mloadimg\u001b[0;34m(path)\u001b[0m\n\u001b[1;32m     17\u001b[0m \u001b[0;32mdef\u001b[0m \u001b[0mloadimg\u001b[0m\u001b[0;34m(\u001b[0m\u001b[0mpath\u001b[0m\u001b[0;34m)\u001b[0m\u001b[0;34m:\u001b[0m\u001b[0;34m\u001b[0m\u001b[0;34m\u001b[0m\u001b[0m\n\u001b[1;32m     18\u001b[0m \u001b[0;34m\u001b[0m\u001b[0m\n\u001b[0;32m---> 19\u001b[0;31m     \u001b[0mdisplay\u001b[0m\u001b[0;34m(\u001b[0m\u001b[0mImage\u001b[0m\u001b[0;34m(\u001b[0m\u001b[0mfilename\u001b[0m\u001b[0;34m=\u001b[0m\u001b[0mpath\u001b[0m\u001b[0;34m)\u001b[0m \u001b[0;34m)\u001b[0m\u001b[0;34m\u001b[0m\u001b[0;34m\u001b[0m\u001b[0m\n\u001b[0m\u001b[1;32m     20\u001b[0m \u001b[0;34m\u001b[0m\u001b[0m\n",
      "\u001b[0;32m/usr/local/lib/python3.8/dist-packages/IPython/core/display.py\u001b[0m in \u001b[0;36m__init__\u001b[0;34m(self, data, url, filename, format, embed, width, height, retina, unconfined, metadata)\u001b[0m\n\u001b[1;32m   1174\u001b[0m \u001b[0;34m\u001b[0m\u001b[0m\n\u001b[1;32m   1175\u001b[0m         \u001b[0;32mif\u001b[0m \u001b[0mfilename\u001b[0m \u001b[0;32mis\u001b[0m \u001b[0;32mnot\u001b[0m \u001b[0;32mNone\u001b[0m\u001b[0;34m:\u001b[0m\u001b[0;34m\u001b[0m\u001b[0;34m\u001b[0m\u001b[0m\n\u001b[0;32m-> 1176\u001b[0;31m             \u001b[0mext\u001b[0m \u001b[0;34m=\u001b[0m \u001b[0mself\u001b[0m\u001b[0;34m.\u001b[0m\u001b[0m_find_ext\u001b[0m\u001b[0;34m(\u001b[0m\u001b[0mfilename\u001b[0m\u001b[0;34m)\u001b[0m\u001b[0;34m\u001b[0m\u001b[0;34m\u001b[0m\u001b[0m\n\u001b[0m\u001b[1;32m   1177\u001b[0m         \u001b[0;32melif\u001b[0m \u001b[0murl\u001b[0m \u001b[0;32mis\u001b[0m \u001b[0;32mnot\u001b[0m \u001b[0;32mNone\u001b[0m\u001b[0;34m:\u001b[0m\u001b[0;34m\u001b[0m\u001b[0;34m\u001b[0m\u001b[0m\n\u001b[1;32m   1178\u001b[0m             \u001b[0mext\u001b[0m \u001b[0;34m=\u001b[0m \u001b[0mself\u001b[0m\u001b[0;34m.\u001b[0m\u001b[0m_find_ext\u001b[0m\u001b[0;34m(\u001b[0m\u001b[0murl\u001b[0m\u001b[0;34m)\u001b[0m\u001b[0;34m\u001b[0m\u001b[0;34m\u001b[0m\u001b[0m\n",
      "\u001b[0;32m/usr/local/lib/python3.8/dist-packages/IPython/core/display.py\u001b[0m in \u001b[0;36m_find_ext\u001b[0;34m(self, s)\u001b[0m\n\u001b[1;32m   1318\u001b[0m \u001b[0;34m\u001b[0m\u001b[0m\n\u001b[1;32m   1319\u001b[0m     \u001b[0;32mdef\u001b[0m \u001b[0m_find_ext\u001b[0m\u001b[0;34m(\u001b[0m\u001b[0mself\u001b[0m\u001b[0;34m,\u001b[0m \u001b[0ms\u001b[0m\u001b[0;34m)\u001b[0m\u001b[0;34m:\u001b[0m\u001b[0;34m\u001b[0m\u001b[0;34m\u001b[0m\u001b[0m\n\u001b[0;32m-> 1320\u001b[0;31m         \u001b[0mbase\u001b[0m\u001b[0;34m,\u001b[0m \u001b[0mext\u001b[0m \u001b[0;34m=\u001b[0m \u001b[0msplitext\u001b[0m\u001b[0;34m(\u001b[0m\u001b[0ms\u001b[0m\u001b[0;34m)\u001b[0m\u001b[0;34m\u001b[0m\u001b[0;34m\u001b[0m\u001b[0m\n\u001b[0m\u001b[1;32m   1321\u001b[0m \u001b[0;34m\u001b[0m\u001b[0m\n\u001b[1;32m   1322\u001b[0m         \u001b[0;32mif\u001b[0m \u001b[0;32mnot\u001b[0m \u001b[0mext\u001b[0m\u001b[0;34m:\u001b[0m\u001b[0;34m\u001b[0m\u001b[0;34m\u001b[0m\u001b[0m\n",
      "\u001b[0;32m/usr/lib/python3.8/posixpath.py\u001b[0m in \u001b[0;36msplitext\u001b[0;34m(p)\u001b[0m\n\u001b[1;32m    116\u001b[0m \u001b[0;34m\u001b[0m\u001b[0m\n\u001b[1;32m    117\u001b[0m \u001b[0;32mdef\u001b[0m \u001b[0msplitext\u001b[0m\u001b[0;34m(\u001b[0m\u001b[0mp\u001b[0m\u001b[0;34m)\u001b[0m\u001b[0;34m:\u001b[0m\u001b[0;34m\u001b[0m\u001b[0;34m\u001b[0m\u001b[0m\n\u001b[0;32m--> 118\u001b[0;31m     \u001b[0mp\u001b[0m \u001b[0;34m=\u001b[0m \u001b[0mos\u001b[0m\u001b[0;34m.\u001b[0m\u001b[0mfspath\u001b[0m\u001b[0;34m(\u001b[0m\u001b[0mp\u001b[0m\u001b[0;34m)\u001b[0m\u001b[0;34m\u001b[0m\u001b[0;34m\u001b[0m\u001b[0m\n\u001b[0m\u001b[1;32m    119\u001b[0m     \u001b[0;32mif\u001b[0m \u001b[0misinstance\u001b[0m\u001b[0;34m(\u001b[0m\u001b[0mp\u001b[0m\u001b[0;34m,\u001b[0m \u001b[0mbytes\u001b[0m\u001b[0;34m)\u001b[0m\u001b[0;34m:\u001b[0m\u001b[0;34m\u001b[0m\u001b[0;34m\u001b[0m\u001b[0m\n\u001b[1;32m    120\u001b[0m         \u001b[0msep\u001b[0m \u001b[0;34m=\u001b[0m \u001b[0;34mb'/'\u001b[0m\u001b[0;34m\u001b[0m\u001b[0;34m\u001b[0m\u001b[0m\n",
      "\u001b[0;31mTypeError\u001b[0m: expected str, bytes or os.PathLike object, not list"
     ]
    }
   ],
   "source": [
    "#folders_2b_evalutated = [\"./test/generated_result/10_26_2020_11_14_22_Electronic_note/120000/8/0.7_0.8\", \"test/generated_result/10_24_2020_13_39_33_Electronic_nosamplernn/120000/16/0.6_0.6\"]\n",
    "folders_2b_evaluated = [\"xml_test_decoded_omi/Pop\"]\n",
    "lst_of_long_pattern = []\n",
    "for folder in folders_2b_evaluated:\n",
    "    mid_files_lst = glob.glob(folder+\"/*.mid\")\n",
    "    mid_files_lst2 = glob.glob(folder+\"/*.mid\")\n",
    "    #mid_files_lst2 = [f for f in mid_files_lst if f.split(\"_\")[-1]==\"eva.mid\"]\n",
    "\n",
    "    #evaluate a folder of files\n",
    "    feature_4_each_file = [get_feature(mid_file, long_short_threshold= 64) for mid_file in mid_files_lst2]\n",
    "    ratio_4_folder = sum([x[0]for x in feature_4_each_file])/len(mid_files_lst2)\n",
    "    long_patterns_4_folder = sum([x[1]for x in feature_4_each_file])\n",
    "    short_patterns_4_folder = sum([x[2]for x in feature_4_each_file])\n",
    "    mask_lst = [x[3] for x in feature_4_each_file]\n",
    "    files_with_long_pattern = [x for x, y in zip(mid_files_lst, mask_lst) if y is True]\n",
    "    print(folder,\"ratio:\",ratio_4_folder, \"long pattern:\",long_patterns_4_folder, \"short pattern:\",short_patterns_4_folder, \"files_with_long_pattern\", files_with_long_pattern)"
   ]
  },
  {
   "cell_type": "code",
   "execution_count": null,
   "metadata": {
    "collapsed": true
   },
   "outputs": [],
   "source": [
    "#path = \"test/generated_result/10_26_2020_11_14_22_Electronic_note/120000/8/0.5/10_26_2020_11_14_22_Electronic_note_120000_8_0.5_a_alesso_clash_instrumental.mid\"\n",
    "paths = glob.glob(\"test/generated_result/10_26_2020_11_14_22_Electronic_note/120000/8/0.7_0.8/10_26_2020_11_14_22_Electronic_note_120000_8_0.7_0.8_z_zedd-ft-ryan-tedder_lost-at-sea_verse_chorus.mid\")\n",
    "unsucessful_lst = []\n",
    "for path in paths:\n",
    "    print(\"hey\",path)\n",
    "    try:\n",
    "        playmid(path)\n",
    "    except:\n",
    "        unsucessful_lst.append(path)\n",
    "print(unsucessful_lst)"
   ]
  },
  {
   "cell_type": "code",
   "execution_count": null,
   "metadata": {
    "collapsed": true
   },
   "outputs": [],
   "source": [
    "paths = glob.glob(\"test/generated_result/10_27_2020_03_04_51_Electronic_bar_note/120000/8/0.7_0.8/*.mid\")\n",
    "unsucessful_lst = []\n",
    "for path in paths:\n",
    "    print(\"path:\",path)\n",
    "    try:\n",
    "        playmid(path)\n",
    "    except:\n",
    "        unsucessful_lst.append(path)\n",
    "print(unsucessful_lst)"
   ]
  },
  {
   "cell_type": "code",
   "execution_count": null,
   "metadata": {
    "collapsed": true
   },
   "outputs": [],
   "source": [
    "paths = glob.glob(\"test/generated_result/10_27_2020_03_05_21_Electronic_bar_note/120000/8/0.5_0.5/*.mid\")\n",
    "unsucessful_lst = []\n",
    "for path in paths:\n",
    "    print(\"path:\",path)\n",
    "    try:\n",
    "        playmid(path)\n",
    "    except:\n",
    "        unsucessful_lst.append(path)\n",
    "print(unsucessful_lst)"
   ]
  },
  {
   "cell_type": "code",
   "execution_count": null,
   "metadata": {
    "collapsed": true
   },
   "outputs": [],
   "source": [
    "paths = glob.glob(\"test/generated_result/10_27_2020_03_05_21_Electronic_bar_note/120000/8/0.6_0.6/*.mid\")\n",
    "unsucessful_lst = []\n",
    "for path in paths:\n",
    "    print(\"path:\",path)\n",
    "    try:\n",
    "        playmid(path)\n",
    "    except:\n",
    "        unsucessful_lst.append(path)\n",
    "print(unsucessful_lst)"
   ]
  },
  {
   "cell_type": "code",
   "execution_count": null,
   "metadata": {
    "collapsed": true
   },
   "outputs": [],
   "source": [
    "paths = glob.glob(\"test/generated_result/10_27_2020_03_04_51_Electronic_bar_note/120000/8/0.6_0.6/*.mid\")\n",
    "unsucessful_lst = []\n",
    "for path in paths:\n",
    "    print(\"path:\",path)\n",
    "    try:\n",
    "        playmid(path)\n",
    "    except:\n",
    "        unsucessful_lst.append(path)\n",
    "print(unsucessful_lst)"
   ]
  },
  {
   "cell_type": "code",
   "execution_count": null,
   "metadata": {
    "collapsed": true
   },
   "outputs": [],
   "source": [
    "paths = glob.glob(\"test/generated_result/10_24_2020_08_42_59_Electronic_nosamplernn/120000/64/0.6_0.6/*.mid\")\n",
    "unsucessful_lst = []\n",
    "for path in paths:\n",
    "    print(\"path:\",path)\n",
    "    try:\n",
    "        playmid(path)\n",
    "    except:\n",
    "        unsucessful_lst.append(path)\n",
    "print(unsucessful_lst)"
   ]
  },
  {
   "cell_type": "code",
   "execution_count": null,
   "metadata": {
    "collapsed": true
   },
   "outputs": [],
   "source": [
    "paths = glob.glob(\"test/generated_result/10_24_2020_13_39_33_Electronic_nosamplernn/120000/16/0.6_0.6/*.mid\")\n",
    "\n",
    "unsucessful_lst = []\n",
    "\n",
    "for path in paths:\n",
    "    print(\"path:\",path)\n",
    "    if path.split(\"_\")[-1]==\"eva.mid\":\n",
    "        try:\n",
    "            playmid(path)\n",
    "        except:\n",
    "            unsucessful_lst.append(path)\n",
    "print(unsucessful_lst)\n",
    "      \n",
    "      "
   ]
  },
  {
   "cell_type": "code",
   "execution_count": null,
   "metadata": {
    "collapsed": true
   },
   "outputs": [],
   "source": []
  },
  {
   "cell_type": "code",
   "execution_count": null,
   "metadata": {
    "collapsed": true
   },
   "outputs": [],
   "source": []
  },
  {
   "cell_type": "code",
   "execution_count": null,
   "metadata": {
    "collapsed": true
   },
   "outputs": [],
   "source": []
  }
 ],
 "metadata": {
  "kernelspec": {
   "display_name": "Python 3",
   "language": "python",
   "name": "python3"
  },
  "language_info": {
   "codemirror_mode": {
    "name": "ipython",
    "version": 3
   },
   "file_extension": ".py",
   "mimetype": "text/x-python",
   "name": "python",
   "nbconvert_exporter": "python",
   "pygments_lexer": "ipython3",
   "version": "3.8.2"
  }
 },
 "nbformat": 4,
 "nbformat_minor": 4
}
